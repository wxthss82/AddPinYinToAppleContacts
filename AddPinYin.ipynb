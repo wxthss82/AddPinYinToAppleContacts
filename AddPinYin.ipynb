{
 "cells": [
  {
   "cell_type": "code",
   "execution_count": 1,
   "metadata": {
    "collapsed": true
   },
   "outputs": [],
   "source": [
    "lines = None\n",
    "lines2 = None\n",
    "lines3 = None\n",
    "\n",
    "merge = []\n",
    "\n",
    "with open('./LPin.txt') as f:\n",
    "    lines = f.readlines()\n",
    "\n",
    "with open('./FPin.txt') as f:\n",
    "    lines2 = f.readlines()\n",
    "    \n",
    "\n",
    "with open('./in.vcf') as f:\n",
    "    lines3 = f.readlines()"
   ]
  },
  {
   "cell_type": "code",
   "execution_count": 2,
   "metadata": {},
   "outputs": [
    {
     "name": "stdout",
     "output_type": "stream",
     "text": [
      "['VERSION:3.0\\n', 'FN:安晓宇\\n', 'N:安晓宇;;;;\\n', 'EMAIL;TYPE=INTERNET;TYPE=WORK:anxiaoyu@mail.nankai.edu.cn\\n', 'TEL;TYPE=CELL:15201280740\\n', 'END:VCARD\\n', 'BEGIN:VCARD\\n', 'VERSION:3.0\\n', 'FN:鲍小凡\\n']\n"
     ]
    }
   ],
   "source": [
    "print(lines3[1:10])"
   ]
  },
  {
   "cell_type": "code",
   "execution_count": 3,
   "metadata": {
    "collapsed": true
   },
   "outputs": [],
   "source": [
    "import re\n",
    "out2 = \"\"\n",
    "cnt = 0\n",
    "for i in range(len(lines3)):\n",
    "    out2 += lines3[i]\n",
    "    if re.match('^N:.*?;;;;', lines3[i]):\n",
    "        out2 += lines2[cnt]\n",
    "        out2 += lines[cnt]\n",
    "        cnt = cnt + 1\n",
    "\n",
    "with open('./out.vcf', 'w') as f:\n",
    "    f.write(out2)"
   ]
  },
  {
   "cell_type": "code",
   "execution_count": null,
   "metadata": {
    "collapsed": true
   },
   "outputs": [],
   "source": [
    "\n",
    "    \n"
   ]
  },
  {
   "cell_type": "code",
   "execution_count": null,
   "metadata": {},
   "outputs": [],
   "source": []
  },
  {
   "cell_type": "code",
   "execution_count": null,
   "metadata": {},
   "outputs": [],
   "source": []
  },
  {
   "cell_type": "code",
   "execution_count": null,
   "metadata": {
    "collapsed": true
   },
   "outputs": [],
   "source": []
  }
 ],
 "metadata": {
  "kernelspec": {
   "display_name": "Python 3",
   "language": "python",
   "name": "python3"
  },
  "language_info": {
   "codemirror_mode": {
    "name": "ipython",
    "version": 3
   },
   "file_extension": ".py",
   "mimetype": "text/x-python",
   "name": "python",
   "nbconvert_exporter": "python",
   "pygments_lexer": "ipython3",
   "version": "3.5.3"
  }
 },
 "nbformat": 4,
 "nbformat_minor": 2
}
